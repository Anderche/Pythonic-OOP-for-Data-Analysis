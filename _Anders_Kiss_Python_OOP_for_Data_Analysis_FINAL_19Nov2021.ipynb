{
  "cells": [
    {
      "cell_type": "markdown",
      "metadata": {
        "id": "9lcXDBmhTSWV"
      },
      "source": [
        "## **Paystub Calculator Program**\n",
        "\n",
        "The following Python prompts a User to input their name, employee no., week-end-date, hours worked, pay rate, as well as standard and overtime tax percentage rates. This data is then used to calculate the employee's gross pay, tax deductions, and lastly net pay (with the assumption that the work week is 37.5 hours).\n",
        "\n",
        "e.g. A User must enter the following data:\n",
        "- Employee Name (sample input – Mark Bate)\n",
        "- Employee Number\n",
        "- Week Ending\n",
        "- Number of hours worked\n",
        "- Hourly Rate\n",
        "- Overtime Rate\n",
        "- Standard Tax Rate \n",
        "- Overtime Tax Rate\n",
        "– Mark Rate\n",
        "\n",
        "Once the above data has been entered the program should display the employee’s paystub.\n",
        "\n",
        "### **TABLE of CONTENTS**\n",
        "* 1 ] BEGIN by writing Employees.txt and Hours.txt files with hardcoded data.\n",
        "* 2 ] CONVERT two .txt files into useful datatypes to be used in final report generation\n",
        "* 3 ] DEFINE Employee class (with a .computePayment method) that returns Employee's full paystub information.\n",
        "* 4 ] RUN UNIT TESTS\n",
        "* 5 ] REFACTOR Employee class\n",
        "* 6 ] RERUN UNIT TESTS (test-driven development)\n",
        "* 7 ] CREATE A FILE (\"Report.txt\") containing all valid paystub records.\n"
      ]
    },
    {
      "cell_type": "markdown",
      "metadata": {
        "id": "Ljwta9BMVYmj"
      },
      "source": [
        "# 1 ] BEGIN by writing Employees.txt and Hours.txt files with hardcoded data."
      ]
    },
    {
      "cell_type": "markdown",
      "metadata": {
        "id": "T31FznHRASKn"
      },
      "source": [
        "#### Read in a file named Employees.txt, which contains the following information: (space separated)\n",
        "\n",
        "```\n",
        "<StaffID> <LastName> <FirstName> <RegHours> <HourlyRate> <OTMultiple> <TaxCredit> <StandardBand>\n",
        "```"
      ]
    },
    {
      "cell_type": "code",
      "execution_count": null,
      "metadata": {
        "colab": {
          "base_uri": "https://localhost:8080/"
        },
        "id": "6a1TnmR4OtF0",
        "outputId": "68bf0a78-8e2f-4e36-c2dd-99de434cbece"
      },
      "outputs": [
        {
          "name": "stdout",
          "output_type": "stream",
          "text": [
            "Employees.txt data: \n",
            "12345 Green Joe 37 16 1.5 70 700\n",
            "12346 Doe Jane 37 18 1.5 70 700\n",
            "\n",
            "Hours.txt data: \n",
            "12345 31/10/2021 42\n",
            "12346 31/10/2021 37\n",
            "12346 07/11/2021 45\n"
          ]
        }
      ],
      "source": [
        "# write 2x Employee records to file\n",
        "# <StaffID> <LastName> <FirstName> <RegHours> <HourlyRate> <OTMultiple> <TaxCredit> <StandardBand>\n",
        "with open('Employees.txt', 'w') as f:\n",
        "  f.write('''12345 Green Joe 37 16 1.5 70 700\\n12346 Doe Jane 37 18 1.5 70 700''')\n",
        "\n",
        "# write 3x Hour records to file\n",
        "# <StaffID> <Date> <HoursWorked>\n",
        "with open('Hours.txt', 'w') as f:\n",
        "  f.write('''12345 31/10/2021 42\\n12346 31/10/2021 37\\n12346 07/11/2021 45''')\n",
        "\n",
        "# Check that the two files are reading correctly w/ print statement\n",
        "with open('Employees.txt','r') as f1, open('Hours.txt', 'r') as f2:\n",
        "  eFile = f1.read()\n",
        "  hFile = f2.read()\n",
        "  print(\"Employees.txt data: \\n\" + eFile + \"\\n\\n\" + \"Hours.txt data: \\n\" + hFile)\n"
      ]
    },
    {
      "cell_type": "markdown",
      "metadata": {
        "id": "i75sOmXJAogN"
      },
      "source": [
        "---\n",
        "# 2 ] CONVERT two .txt files into useful datatypes to be used in final report generation\n",
        "\n",
        "### with try/except block\n",
        "---"
      ]
    },
    {
      "cell_type": "code",
      "execution_count": null,
      "metadata": {
        "id": "1tiYqtRLGcyD"
      },
      "outputs": [],
      "source": [
        "def getEmplDictHrList(eFile, hFile):\n",
        "  # GET EMPLOYEE DICTIONARY\n",
        "  if eFile != 'Employees.txt':\n",
        "    print(\"Make sure that the 1st argument is the filename: 'Employees.txt'\")\n",
        "    raise ValueError(\"Incorrect filename!\")\n",
        "  else:\n",
        "    with open('Employees.txt', 'r') as eFile:\n",
        "      empl_dict = {}\n",
        "      try:\n",
        "        for line in eFile:\n",
        "          lineItem = line.split()\n",
        "          key = str(lineItem[0])\n",
        "          val = lineItem[0:8]\n",
        "          empl_dict[key] = val\n",
        "      except:\n",
        "        err = \"Please, check that the file is formatted correctly (contains no special characters, and is space-separated)\"\n",
        "        print(err)\n",
        "        empl_dict.update({\"ERROR: \": err})\n",
        "\n",
        "  # GET HOURS LIST\n",
        "  if hFile != 'Hours.txt':\n",
        "    print(\"Make sure that the 2nd argument is the filename: 'Hours.txt'\")\n",
        "    raise ValueError(\"Incorrect filename!\")\n",
        "  else:\n",
        "    with open('Hours.txt', 'r') as hFile:\n",
        "      hData = []\n",
        "      try:\n",
        "        for line in hFile:\n",
        "          lineItem = line.split()\n",
        "          hData.append(lineItem)\n",
        "        hData\n",
        "      except IOError:      \n",
        "        err = \"Please, check that the file is formatted correctly (contains no special characters, and is space-separated)\"\n",
        "        print(err)\n",
        "        hData.append(err)        \n",
        "\n",
        "  return hData, empl_dict"
      ]
    },
    {
      "cell_type": "code",
      "execution_count": null,
      "metadata": {
        "colab": {
          "base_uri": "https://localhost:8080/"
        },
        "id": "CIWmZbnXIZmz",
        "outputId": "e278a9f2-24f1-42a4-c913-cb3a4d9603f5"
      },
      "outputs": [
        {
          "name": "stdout",
          "output_type": "stream",
          "text": [
            "Hours.txt CONVERTED TO LIST\n",
            "[['12345', '31/10/2021', '42'], ['12346', '31/10/2021', '37'], ['12346', '07/11/2021', '45']]\n",
            "\n",
            "Employees.txt CONVERTED TO DICTIONARY\n",
            "{'12345': ['12345', 'Green', 'Joe', '37', '16', '1.5', '70', '700'], '12346': ['12346', 'Doe', 'Jane', '37', '18', '1.5', '70', '700']}\n"
          ]
        }
      ],
      "source": [
        "# TEST getEmplDictHrList function with print statements\n",
        "\n",
        "data = getEmplDictHrList('Employees.txt', 'Hours.txt')\n",
        "hData = data[0]\n",
        "eData = data[1]\n",
        "\n",
        "print(\"Hours.txt CONVERTED TO LIST\")\n",
        "print(hData)\n",
        "print(\"\\nEmployees.txt CONVERTED TO DICTIONARY\")\n",
        "print(eData)"
      ]
    },
    {
      "cell_type": "markdown",
      "metadata": {
        "id": "vqBAU07WP_X9"
      },
      "source": [
        "---\n",
        "# 3 ] DEFINE Employee class (with a .computePayment method) that returns Employee's full paystub information.\n",
        "\n",
        "### PROMPT - REFERENCE ONLY:\n",
        "```\n",
        "# Create a method computePayment in class Employee\n",
        "\n",
        "...which takes HoursWorked and as follows: (if jg is an Employee object for worker Joe Green)\n",
        "\n",
        "We will assume a standard rate of 20% and a higher rate of 40% (we will ignore PRSI, USC etc.)\n",
        "\n",
        ">>>jg.computePayment(42 '31/10/2021')\n",
        "\n",
        "{'name': 'Joe Green', 'Date':'31/10/2021', 'Regular Hours Worked':37,'Overtime Hours Worked':5,'Regular Rate':16,'Overtime Rate':24, 'Regular Pay':592,'Overtime Pay':120,'Gross Pay':712, 'Standard Rate Pay':700,'Higher Rate Pay':12, 'Standard Tax':140,'Higher Tax':4.8,'Total Tax':144.8,'Tax Credit':70,'Net Deductions':74.8, 'Net Pay': 637.2}\n",
        "\n",
        "* 'name': 'Joe Green'\n",
        "* 'Date':'31/10/2021'\n",
        "* 'Regular Hours Worked':37\n",
        "* 'Overtime Hours Worked':5\n",
        "* 'Regular Rate':16\n",
        "* 'Overtime Rate':24\n",
        "* 'Regular Pay':592\n",
        "* 'Overtime Pay':120\n",
        "* 'Gross Pay':712\n",
        "* 'Standard Rate Pay':700\n",
        "* 'Higher Rate Pay':12\n",
        "* 'Standard Tax':140\n",
        "* 'Higher Tax':4.8\n",
        "* 'Total Tax':144.8\n",
        "* 'Tax Credit':70\n",
        "* 'Net Deductions':74.8\n",
        "* 'Net Pay': 637.2\n",
        "```\n",
        "\n",
        "---"
      ]
    },
    {
      "cell_type": "code",
      "execution_count": null,
      "metadata": {
        "id": "8u64PyHxn5_y"
      },
      "outputs": [],
      "source": [
        "# Define Employee class\n",
        "\n",
        "class Employee:\n",
        "  def __init__(self, staffID, lastName, firstName, contractHours, hourlyRate, otMultiple, taxCredit, standardBand):\n",
        "    # make variables hidden, and add getters/setters below\n",
        "    self.staffID = int(staffID)\n",
        "    self.lastName = lastName\n",
        "    self.firstName = firstName\n",
        "    self.contractHours = float(contractHours)\n",
        "    self.hourlyRate = float(hourlyRate)\n",
        "    self.otMultiple = float(otMultiple)\n",
        "    self.taxCredit = float(taxCredit)\n",
        "    self.standardBand = float(standardBand)\n",
        "\n",
        "  def computePayment(self, hoursWorked, date):\n",
        "    name = str(self.firstName + \" \" + self.lastName)\n",
        "    date = date\n",
        "    hoursWorked = float(hoursWorked) \n",
        "    regHours = float(hoursWorked)\n",
        "    otHours = regHours - self.contractHours\n",
        "    regRate = self.hourlyRate\n",
        "    otRate = regRate * self.otMultiple \n",
        "    regPay = regHours * regRate\n",
        "    otPay = otHours * otRate\n",
        "    grossPay = regPay + otPay\n",
        "    standardRatePay = self.standardBand    \n",
        "    higherRatePay = grossPay - standardRatePay\n",
        "    standardTax = (standardRatePay * 0.2)\n",
        "    standardTax = round(standardTax, 5)\n",
        "    higherTax = (higherRatePay * 0.4)\n",
        "    higherTax = round(higherTax, 5)\n",
        "    totalTax = standardTax + higherTax\n",
        "    taxCredit = self.taxCredit\n",
        "    netDeductions = totalTax - taxCredit\n",
        "    netDeductions = round(netDeductions, 5)\n",
        "    netPay = grossPay - netDeductions\n",
        "    \n",
        "# # # # # # # RETURNED VALUES # # # # # # # \n",
        "\n",
        "    paymentDict = { \"Name\":name,\n",
        "                    \"Date\":date,\n",
        "                    \"Regular Hours Worked\":regHours,\n",
        "                    \"Overtime Hours Worked\":otHours,\n",
        "                    \"Regular Rate\":regRate,\n",
        "                    \"Overtime Rate\":otRate, \n",
        "                    \"Regular Pay\":regPay,\n",
        "                    \"Overtime Pay\":otPay,\n",
        "                    \"Gross Pay\":grossPay,\n",
        "                    \"Standard Rate Pay\":standardRatePay,\n",
        "                    \"Higher Rate Pay\":higherRatePay,\n",
        "                    \"Standard Tax\":standardTax,\n",
        "                    \"Higher Tax\":higherTax,\n",
        "                    \"Total Tax\":totalTax, \n",
        "                    \"Tax Credit\":taxCredit,\n",
        "                    \"Net Deductions\":netDeductions,\n",
        "                    \"Net Pay\":netPay\n",
        "                  }\n",
        "    return paymentDict "
      ]
    },
    {
      "cell_type": "code",
      "execution_count": null,
      "metadata": {
        "colab": {
          "base_uri": "https://localhost:8080/"
        },
        "id": "kRIDDeSeyugS",
        "outputId": "41470637-b8db-4bda-8801-ce83d521e372"
      },
      "outputs": [
        {
          "name": "stdout",
          "output_type": "stream",
          "text": [
            "['12345', 'Green', 'Joe', '37', '16', '1.5', '70', '700'] \n",
            "\n",
            "37.0 \n",
            "\n",
            "{'Name': 'Joe Green', 'Date': '31/10/2021', 'Regular Hours Worked': 42.0, 'Overtime Hours Worked': 5.0, 'Regular Rate': 16.0, 'Overtime Rate': 24.0, 'Regular Pay': 672.0, 'Overtime Pay': 120.0, 'Gross Pay': 792.0, 'Standard Rate Pay': 700.0, 'Higher Rate Pay': 92.0, 'Standard Tax': 140.0, 'Higher Tax': 36.8, 'Total Tax': 176.8, 'Tax Credit': 70.0, 'Net Deductions': 106.8, 'Net Pay': 685.2} \n",
            "\n",
            "Joe Green\n",
            "31/10/2021\n",
            "42.0\n",
            "5.0\n",
            "16.0\n",
            "24.0\n",
            "672.0\n",
            "120.0\n",
            "792.0\n",
            "700.0\n",
            "92.0\n",
            "140.0\n",
            "36.8\n",
            "176.8\n",
            "70.0\n",
            "106.8\n",
            "685.2\n"
          ]
        }
      ],
      "source": [
        "# TEST EMPLOYEE OBJECT by instantiating an Employee\n",
        "joeData = eData.get('12345')\n",
        "print(joeData,\"\\n\")\n",
        "joe = Employee(joeData[0], joeData[1], joeData[2], joeData[3], joeData[4], joeData[5], joeData[6], joeData[7])\n",
        "print(joe.contractHours,\"\\n\")\n",
        "\n",
        "joe_report = joe.computePayment(42, '31/10/2021')\n",
        "print(joe_report,\"\\n\")\n",
        "\n",
        "for key, value in joe_report.items():\n",
        "  print(value)"
      ]
    },
    {
      "cell_type": "markdown",
      "metadata": {
        "id": "6NeXnoN59Yjm"
      },
      "source": [
        "---\n",
        "# 4 ] RUN UNIT TESTS\n",
        "\n",
        "* Net pay cannot exceed gross pay \n",
        "* Overtime pay or overtime hours cannot be negative.\n",
        "* Regular Hours Worked cannot exceed hours worked\n",
        "* Higher Tax cannot be negative.\n",
        "* Net Pay cannot be negative.\n",
        "---"
      ]
    },
    {
      "cell_type": "code",
      "execution_count": null,
      "metadata": {
        "colab": {
          "base_uri": "https://localhost:8080/"
        },
        "id": "-P5Jq3fHE3uR",
        "outputId": "21ac1d48-2e65-499f-c829-0d900c1dec12"
      },
      "outputs": [
        {
          "name": "stderr",
          "output_type": "stream",
          "text": [
            "FFFFF\n",
            "======================================================================\n",
            "FAIL: test_01 (__main__.EmployeeTest)\n",
            "----------------------------------------------------------------------\n",
            "Traceback (most recent call last):\n",
            "  File \"<ipython-input-216-be4d73ae69f9>\", line 8, in test_01\n",
            "    self.assertLessEqual(joe[\"Net Pay\"],joe[\"Gross Pay\"])\n",
            "AssertionError: -298.79999999999995 not less than or equal to -848.0\n",
            "\n",
            "======================================================================\n",
            "FAIL: test_02 (__main__.EmployeeTest)\n",
            "----------------------------------------------------------------------\n",
            "Traceback (most recent call last):\n",
            "  File \"<ipython-input-216-be4d73ae69f9>\", line 14, in test_02\n",
            "    self.assertGreaterEqual(joe[\"Overtime Pay\"],0)\n",
            "AssertionError: -840.0 not greater than or equal to 0\n",
            "\n",
            "======================================================================\n",
            "FAIL: test_03 (__main__.EmployeeTest)\n",
            "----------------------------------------------------------------------\n",
            "Traceback (most recent call last):\n",
            "  File \"<ipython-input-216-be4d73ae69f9>\", line 20, in test_03\n",
            "    self.assertLessEqual(output[\"Regular Hours Worked\"],joe.contractHours)\n",
            "AssertionError: 70.0 not less than or equal to 37.0\n",
            "\n",
            "======================================================================\n",
            "FAIL: test_04 (__main__.EmployeeTest)\n",
            "----------------------------------------------------------------------\n",
            "Traceback (most recent call last):\n",
            "  File \"<ipython-input-216-be4d73ae69f9>\", line 26, in test_04\n",
            "    self.assertGreaterEqual(joe[\"Higher Tax\"],0)\n",
            "AssertionError: -43.2 not greater than or equal to 0\n",
            "\n",
            "======================================================================\n",
            "FAIL: test_05 (__main__.EmployeeTest)\n",
            "----------------------------------------------------------------------\n",
            "Traceback (most recent call last):\n",
            "  File \"<ipython-input-216-be4d73ae69f9>\", line 32, in test_05\n",
            "    self.assertGreaterEqual(joe[\"Net Pay\"],0)\n",
            "AssertionError: -298.79999999999995 not greater than or equal to 0\n",
            "\n",
            "----------------------------------------------------------------------\n",
            "Ran 5 tests in 0.017s\n",
            "\n",
            "FAILED (failures=5)\n"
          ]
        },
        {
          "data": {
            "text/plain": [
              "<unittest.main.TestProgram at 0x7f67e7ff6790>"
            ]
          },
          "execution_count": 216,
          "metadata": {},
          "output_type": "execute_result"
        }
      ],
      "source": [
        "import unittest\n",
        "\n",
        "class EmployeeTest(unittest.TestCase):\n",
        "  # /// 01 /// Net pay cannot exceed gross pay.\n",
        "  def test_01(self):  \n",
        "    joe = Employee(12345, 'Green', 'Joe', 37, 16, 1.5, 70, 700)\n",
        "    joe = joe.computePayment(1,'31/10/2021')\n",
        "    self.assertLessEqual(joe[\"Net Pay\"],joe[\"Gross Pay\"])\n",
        "      \n",
        "  # /// 02 /// Overtime pay or overtime hours cannot be negative.\n",
        "  def test_02(self):\n",
        "    joe = Employee(12345, 'Green', 'Joe', 37, 16, 1.5, 70, 700)\n",
        "    joe = joe.computePayment(2,'31/10/2021')\n",
        "    self.assertGreaterEqual(joe[\"Overtime Pay\"],0)\n",
        "\n",
        "  # /// 03 /// Regular Hours Worked (regHours) cannot exceed hours worked (self.contractHours).\n",
        "  def test_03(self):\n",
        "    joe = Employee(12345, 'Green', 'Joe', 37, 16, 1.5, 70, 700)\n",
        "    output = joe.computePayment(70,'31/10/2021')\n",
        "    self.assertLessEqual(output[\"Regular Hours Worked\"],joe.contractHours)\n",
        "\n",
        "  # /// 04 /// Higher Tax cannot be negative.\n",
        "  def test_04(self):\n",
        "    joe = Employee(12345, 'Green', 'Joe', 37, 16, 1.5, 70, 700)\n",
        "    joe = joe.computePayment(37,'31/10/2021')   \n",
        "    self.assertGreaterEqual(joe[\"Higher Tax\"],0)\n",
        "\n",
        "  # /// 05 /// Net Pay cannot be negative.\n",
        "  def test_05(self):  \n",
        "    joe = Employee(12345, 'Green', 'Joe', 37, 16, 1.5, 70, 700)\n",
        "    joe = joe.computePayment(1,'31/10/2021')\n",
        "    self.assertGreaterEqual(joe[\"Net Pay\"],0)\n",
        "\n",
        "unittest.main(argv=['blah'], exit=False)\n"
      ]
    },
    {
      "cell_type": "markdown",
      "metadata": {
        "id": "LT9Cl2bu9LYV"
      },
      "source": [
        "---\n",
        "# 5 ] REFACTOR Employee class\n",
        "---"
      ]
    },
    {
      "cell_type": "code",
      "execution_count": null,
      "metadata": {
        "id": "ORUmuT8wj99n"
      },
      "outputs": [],
      "source": [
        "# REFACTORED CODE\n",
        "\n",
        "class Employee:\n",
        "  def __init__(self, staffID, lastName, firstName, contractHours, hourlyRate, otMultiple, taxCredit, standardBand):\n",
        "    self.staffID = int(staffID)\n",
        "    self.lastName = lastName\n",
        "    self.firstName = firstName\n",
        "    self.contractHours = float(contractHours)\n",
        "    self.hourlyRate = float(hourlyRate)\n",
        "    self.otMultiple = float(otMultiple)\n",
        "    self.taxCredit = float(taxCredit)\n",
        "    self.standardBand = float(standardBand)\n",
        "\n",
        "  def computePayment(self, hoursWorked, date):\n",
        "    name = str(self.firstName + \" \" + self.lastName)\n",
        "    date = date\n",
        "\n",
        "    # /// UNIT TEST, test_03 /// \"Regular Hours Worked (regHours) cannot exceed the number as specific as regular in one's contract (self.contractHours).\n",
        "    hoursWorked = float(hoursWorked) \n",
        "    if hoursWorked < 0:\n",
        "      regHours = 0\n",
        "      otHours = 0\n",
        "    elif hoursWorked >= self.contractHours:\n",
        "      regHours = self.contractHours\n",
        "      otHours = hoursWorked - self.contractHours\n",
        "    else:\n",
        "      regHours = hoursWorked\n",
        "      otHours = 0\n",
        "\n",
        "    regRate = self.hourlyRate\n",
        "    otRate = regRate * self.otMultiple\n",
        "    \n",
        "    regPay = regHours * regRate\n",
        "\n",
        "    # /// UNIT TEST, test_02 /// Overtime pay or overtime hours cannot be negative.\n",
        "    otPay = otHours * otRate\n",
        "    if otPay < 0:\n",
        "      otPay = 0\n",
        "\n",
        "    grossPay = regPay + otPay\n",
        "\n",
        "    standardRatePay = self.standardBand    \n",
        "    higherRatePay = grossPay - standardRatePay\n",
        "\n",
        "    standardTax = (standardRatePay * 0.2)\n",
        "    standardTax = round(standardTax, 5)\n",
        "\n",
        "    # /// UNIT TEST, test_04 /// Higher Tax cannot be negative.\n",
        "    higherTax = (higherRatePay * 0.4)\n",
        "    higherTax = round(higherTax, 5)\n",
        "    if higherTax < 0:\n",
        "      higherTax = 0\n",
        "\n",
        "    totalTax = standardTax + higherTax\n",
        "    taxCredit = self.taxCredit\n",
        "    \n",
        "    # netDeductions should be less than grossPay and 0\n",
        "    # /// UNIT TEST, test_01 /// Net pay cannot exceed gross pay\n",
        "    netDeductions = totalTax - taxCredit\n",
        "    netDeductions = round(netDeductions, 5)\n",
        "    if netDeductions < 0:\n",
        "      netDeductions = 0\n",
        "\n",
        "    # /// UNIT TEST, test_05 /// Net Pay cannot be negative.\n",
        "    netPay = grossPay - netDeductions\n",
        "    if netPay < 0:\n",
        "      netPay = 0\n",
        "    \n",
        "# # # # # # # RETURNED VALUES # # # # # # # \n",
        "\n",
        "    paymentDict = { \"Name\":name,\n",
        "                    \"Date\":date,\n",
        "                    \"Regular Hours Worked\":regHours,\n",
        "                    \"Overtime Hours Worked\":otHours,\n",
        "                    \"Regular Rate\":regRate,\n",
        "                    \"Overtime Rate\":otRate, \n",
        "                    \"Regular Pay\":regPay,\n",
        "                    \"Overtime Pay\":otPay,\n",
        "                    \"Gross Pay\":grossPay,\n",
        "                    \"Standard Rate Pay\":standardRatePay,\n",
        "                    \"Higher Rate Pay\":higherRatePay,\n",
        "                    \"Standard Tax\":standardTax,\n",
        "                    \"Higher Tax\":higherTax,\n",
        "                    \"Total Tax\":totalTax, \n",
        "                    \"Tax Credit\":taxCredit,\n",
        "                    \"Net Deductions\":netDeductions,\n",
        "                    \"Net Pay\":netPay\n",
        "                   }\n",
        "\n",
        "    return paymentDict"
      ]
    },
    {
      "cell_type": "markdown",
      "metadata": {
        "id": "oEbW5mXW-hmb"
      },
      "source": [
        "---\n",
        "# 6 ] RERUN UNIT TESTS (test-driven development)\n",
        "\n",
        "* Net pay cannot exceed gross pay \n",
        "* Overtime pay or overtime hours cannot be negative.\n",
        "* Regular Hours Worked cannot exceed hours worked\n",
        "* Higher Tax cannot be negative.\n",
        "* Net Pay cannot be negative.\n",
        "---"
      ]
    },
    {
      "cell_type": "code",
      "execution_count": null,
      "metadata": {
        "colab": {
          "base_uri": "https://localhost:8080/"
        },
        "id": "Pr2Ef3KbrPCk",
        "outputId": "b47cd4a2-dfaa-4362-9a3a-59b67fccc85b"
      },
      "outputs": [
        {
          "name": "stderr",
          "output_type": "stream",
          "text": [
            ".....\n",
            "----------------------------------------------------------------------\n",
            "Ran 5 tests in 0.011s\n",
            "\n",
            "OK\n"
          ]
        },
        {
          "data": {
            "text/plain": [
              "<unittest.main.TestProgram at 0x7f67e7fd8690>"
            ]
          },
          "execution_count": 218,
          "metadata": {},
          "output_type": "execute_result"
        }
      ],
      "source": [
        "import unittest\n",
        "\n",
        "class EmployeeTest(unittest.TestCase):\n",
        "  # /// 01 /// Net pay cannot exceed gross pay.\n",
        "  def test_01(self):  \n",
        "    joe = Employee(12345, 'Green', 'Joe', 37, 16, 1.5, 70, 700)\n",
        "    joe = joe.computePayment(1,'31/10/2021')\n",
        "    # joe = joe.computePayment(1,'31/10/2021')\n",
        "    self.assertLessEqual(joe[\"Net Pay\"],joe[\"Gross Pay\"])\n",
        "      \n",
        "  # /// 02 /// Overtime pay or overtime hours cannot be negative.\n",
        "  def test_02(self):\n",
        "    joe = Employee(12345, 'Green', 'Joe', 37, 16, 1.5, 70, 700)\n",
        "    joe = joe.computePayment(1,'31/10/2021')\n",
        "    # joe = joe.computePayment(1,'31/10/2021')\n",
        "    self.assertGreaterEqual(joe[\"Overtime Pay\"],0)\n",
        "\n",
        "  # /// 03 /// Regular Hours Worked (regHours) cannot exceed hours worked (self.contractHours).\n",
        "  def test_03(self):\n",
        "    joe = Employee(12345, 'Green', 'Joe', 37, 16, 1.5, 70, 700)\n",
        "    output = joe.computePayment(70,'31/10/2021')\n",
        "    self.assertLessEqual(output[\"Regular Hours Worked\"],joe.contractHours)\n",
        "\n",
        "  # /// 04 /// Higher Tax cannot be negative.\n",
        "  def test_04(self):\n",
        "    joe = Employee(12345, 'Green', 'Joe', 37, 16, 1.5, 70, 700)\n",
        "    joe = joe.computePayment(37,'31/10/2021')   \n",
        "    self.assertGreaterEqual(joe[\"Higher Tax\"],0)\n",
        "\n",
        "  # /// 05 /// Net Pay cannot be negative.\n",
        "  def test_05(self):  \n",
        "    joe = Employee(12345, 'Green', 'Joe', 37, 16, 1.5, 70, 700)\n",
        "    joe = joe.computePayment(1,'31/10/2021')\n",
        "    self.assertGreaterEqual(joe[\"Net Pay\"],0)\n",
        "\n",
        "unittest.main(argv=['blah'], exit=False)"
      ]
    },
    {
      "cell_type": "markdown",
      "metadata": {
        "id": "u8dhzTcyPYR4"
      },
      "source": [
        "---\n",
        "# 7 ] CREATE A FILE (\"Report.txt\") containing all valid paystub records.\n",
        "---\n"
      ]
    },
    {
      "cell_type": "code",
      "execution_count": null,
      "metadata": {
        "colab": {
          "base_uri": "https://localhost:8080/"
        },
        "id": "6_AVU1_MVqqh",
        "outputId": "fb37cad9-1623-4d09-f378-8065402e9a27"
      },
      "outputs": [
        {
          "name": "stdout",
          "output_type": "stream",
          "text": [
            "INPUT FILE 1 of 2: Employees.txt\n",
            "\n",
            "INPUT FILE 2 of 2: Hours.txt\n",
            "\n",
            "ACCORDING TO THE INPUT FILES, ABOVE, THERE ARE 3x UNIQUE PAYSTUB RECORDS ON FILE: \n",
            "\n",
            "RECORD_1: {'Name': 'Joe Green', 'Date': '31/10/2021', 'Regular Hours Worked': 37.0, 'Overtime Hours Worked': 5.0, 'Regular Rate': 16.0, 'Overtime Rate': 24.0, 'Regular Pay': 592.0, 'Overtime Pay': 120.0, 'Gross Pay': 712.0, 'Standard Rate Pay': 700.0, 'Higher Rate Pay': 12.0, 'Standard Tax': 140.0, 'Higher Tax': 4.8, 'Total Tax': 144.8, 'Tax Credit': 70.0, 'Net Deductions': 74.8, 'Net Pay': 637.2} \n",
            "\n",
            "RECORD_2: {'Name': 'Jane Doe', 'Date': '31/10/2021', 'Regular Hours Worked': 37.0, 'Overtime Hours Worked': 0.0, 'Regular Rate': 18.0, 'Overtime Rate': 27.0, 'Regular Pay': 666.0, 'Overtime Pay': 0.0, 'Gross Pay': 666.0, 'Standard Rate Pay': 700.0, 'Higher Rate Pay': -34.0, 'Standard Tax': 140.0, 'Higher Tax': 0, 'Total Tax': 140.0, 'Tax Credit': 70.0, 'Net Deductions': 70.0, 'Net Pay': 596.0} \n",
            "\n",
            "RECORD_3: {'Name': 'Jane Doe', 'Date': '07/11/2021', 'Regular Hours Worked': 37.0, 'Overtime Hours Worked': 8.0, 'Regular Rate': 18.0, 'Overtime Rate': 27.0, 'Regular Pay': 666.0, 'Overtime Pay': 216.0, 'Gross Pay': 882.0, 'Standard Rate Pay': 700.0, 'Higher Rate Pay': 182.0, 'Standard Tax': 140.0, 'Higher Tax': 72.8, 'Total Tax': 212.8, 'Tax Credit': 70.0, 'Net Deductions': 142.8, 'Net Pay': 739.2} \n",
            "\n"
          ]
        }
      ],
      "source": [
        "# ADD ALL RECORDS TO A SUMMARY .TXT FILE\n",
        "\n",
        "h = hData\n",
        "e = eData\n",
        "\n",
        "with open('Report.txt','w') as report:\n",
        "  report.write(\"INPUT FILE 1 of 2: {}\\n\".format(\"Employees.txt\"))\n",
        "  report.write(\"INPUT FILE 2 of 2: {}\\n\".format(\"Hours.txt\"))\n",
        "  report.write(\"ACCORDING TO THE INPUT FILES, ABOVE, THERE ARE {}x UNIQUE PAYSTUB RECORDS ON FILE: {}\".format(len(h),\"\\n\"))\n",
        "  counter = 0\n",
        "  for hourLine in h:\n",
        "    id = hourLine[0]\n",
        "    properEmp = e.get(id)  \n",
        "    # EMPLOYEE INFO\n",
        "    v1 = properEmp[0]\n",
        "    v2 = properEmp[1]\n",
        "    v3 = properEmp[2]\n",
        "    v4 = properEmp[3]\n",
        "    v5 = properEmp[4]\n",
        "    v6 = properEmp[5]\n",
        "    v7 = properEmp[6]\n",
        "    v8 = properEmp[7]\n",
        "    # COMPUTE PAYMENT INFO\n",
        "    hours = hourLine[2]\n",
        "    date = hourLine[1]\n",
        "    # CREATE EMPLOYEE\n",
        "    addUser = Employee(v1,v2,v3,v4,v5,v6,v7,v8)\n",
        "    paystub = addUser.computePayment(hours, date)\n",
        "    counter += 1\n",
        "    report.write(f\"RECORD_{counter}: {paystub} \\n\")\n",
        "  report.close()\n",
        "\n",
        "with open('Report.txt','r') as report:\n",
        "  for line in report:\n",
        "    print(line)"
      ]
    },
    {
      "cell_type": "code",
      "execution_count": null,
      "metadata": {
        "id": "foL54LjDWmmv"
      },
      "outputs": [],
      "source": []
    }
  ],
  "metadata": {
    "colab": {
      "collapsed_sections": [],
      "provenance": []
    },
    "kernelspec": {
      "display_name": "Python 3",
      "name": "python3"
    },
    "language_info": {
      "name": "python"
    }
  },
  "nbformat": 4,
  "nbformat_minor": 0
}